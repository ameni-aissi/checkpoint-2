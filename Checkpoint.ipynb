{
 "cells": [
  {
   "cell_type": "code",
   "execution_count": 1,
   "id": "956843ca-23e6-4443-a441-492039d9e48d",
   "metadata": {},
   "outputs": [],
   "source": [
    "#Question 1\n"
   ]
  },
  {
   "cell_type": "code",
   "execution_count": 9,
   "id": "99dbb1c7-a8d5-4c59-9b23-faf36a252794",
   "metadata": {},
   "outputs": [
    {
     "name": "stdin",
     "output_type": "stream",
     "text": [
      "please write your fisrt name ameni\n"
     ]
    }
   ],
   "source": [
    "first_name=input(\"please write your fisrt name\")"
   ]
  },
  {
   "cell_type": "markdown",
   "id": "7fc85e91-8dbd-438d-8f76-a3d0843e9151",
   "metadata": {},
   "source": []
  },
  {
   "cell_type": "code",
   "execution_count": 11,
   "id": "985fa961-a7ae-494a-be3f-c411ec4a1299",
   "metadata": {},
   "outputs": [
    {
     "name": "stdin",
     "output_type": "stream",
     "text": [
      "please write your last name aissi\n"
     ]
    }
   ],
   "source": [
    "last_name=input(\"please write your last name\")"
   ]
  },
  {
   "cell_type": "code",
   "execution_count": 8,
   "id": "07b9db0d-4a71-45db-858a-031cffe8361d",
   "metadata": {},
   "outputs": [
    {
     "name": "stdout",
     "output_type": "stream",
     "text": [
      "aissi ameni\n"
     ]
    }
   ],
   "source": [
    "print(last_name, first_name)"
   ]
  },
  {
   "cell_type": "code",
   "execution_count": 12,
   "id": "3d5d56b1-9709-4ea1-ab77-bc1a1a8f2eff",
   "metadata": {},
   "outputs": [],
   "source": [
    "#Question 2\n"
   ]
  },
  {
   "cell_type": "code",
   "execution_count": 33,
   "id": "09ef0664-17f8-4b01-a9d9-a0b23765dcd5",
   "metadata": {},
   "outputs": [
    {
     "name": "stdin",
     "output_type": "stream",
     "text": [
      "write an integer 5\n"
     ]
    }
   ],
   "source": [
    "n=input(\"write an integer\")"
   ]
  },
  {
   "cell_type": "code",
   "execution_count": 48,
   "id": "05e46d31-206f-4151-bbd8-c0710ec22d6a",
   "metadata": {},
   "outputs": [],
   "source": [
    "x= n+n*11+n*111"
   ]
  },
  {
   "cell_type": "code",
   "execution_count": 49,
   "id": "b41acc40-9c8f-49c3-92f3-2804deeab5fd",
   "metadata": {},
   "outputs": [
    {
     "name": "stdout",
     "output_type": "stream",
     "text": [
      "555555555555555555555555555555555555555555555555555555555555555555555555555555555555555555555555555555555555555555555555555\n"
     ]
    }
   ],
   "source": [
    "print (x)"
   ]
  },
  {
   "cell_type": "code",
   "execution_count": 50,
   "id": "b9db7e22-8c66-46a8-a13d-f9088d06c392",
   "metadata": {},
   "outputs": [],
   "source": [
    "x= n+(n*11)+(n*111)"
   ]
  },
  {
   "cell_type": "code",
   "execution_count": 51,
   "id": "dcf97b58-4661-4a4b-9ded-c6c6ca7f787d",
   "metadata": {},
   "outputs": [
    {
     "name": "stdout",
     "output_type": "stream",
     "text": [
      "555555555555555555555555555555555555555555555555555555555555555555555555555555555555555555555555555555555555555555555555555\n"
     ]
    }
   ],
   "source": [
    "print (x)"
   ]
  },
  {
   "cell_type": "code",
   "execution_count": 52,
   "id": "160ac108-d6a2-40cd-9327-f7635dbf0824",
   "metadata": {},
   "outputs": [
    {
     "data": {
      "text/plain": [
       "'555555555555555555555555555555555555555555555555555555555555555555555555555555555555555555555555555555555555555555555555555'"
      ]
     },
     "execution_count": 52,
     "metadata": {},
     "output_type": "execute_result"
    }
   ],
   "source": [
    "x"
   ]
  },
  {
   "cell_type": "code",
   "execution_count": 53,
   "id": "2f0bb1ac-c471-4578-96d3-fc87e83f139d",
   "metadata": {},
   "outputs": [
    {
     "data": {
      "text/plain": [
       "str"
      ]
     },
     "execution_count": 53,
     "metadata": {},
     "output_type": "execute_result"
    }
   ],
   "source": [
    "type (n)"
   ]
  },
  {
   "cell_type": "code",
   "execution_count": 54,
   "id": "71b92905-3700-4008-b25a-ca855c6960a1",
   "metadata": {},
   "outputs": [
    {
     "name": "stdin",
     "output_type": "stream",
     "text": [
      "write n 5\n"
     ]
    }
   ],
   "source": [
    "n=int(input(\"write n\"))"
   ]
  },
  {
   "cell_type": "code",
   "execution_count": 55,
   "id": "3c935531-0e81-43f5-ab88-75952dae9b57",
   "metadata": {},
   "outputs": [
    {
     "data": {
      "text/plain": [
       "int"
      ]
     },
     "execution_count": 55,
     "metadata": {},
     "output_type": "execute_result"
    }
   ],
   "source": [
    "type (n)"
   ]
  },
  {
   "cell_type": "code",
   "execution_count": 56,
   "id": "dcb34aee-1633-4db5-a5e9-dc79aa864775",
   "metadata": {},
   "outputs": [],
   "source": [
    "x=n+n*11+n*111"
   ]
  },
  {
   "cell_type": "code",
   "execution_count": 57,
   "id": "dcfd2682-0229-4e30-bca8-6af4ffdfbec2",
   "metadata": {},
   "outputs": [
    {
     "name": "stdout",
     "output_type": "stream",
     "text": [
      "615\n"
     ]
    }
   ],
   "source": [
    "print (x)"
   ]
  },
  {
   "cell_type": "code",
   "execution_count": 64,
   "id": "071b8849-6cf4-4540-86fc-a180108b9946",
   "metadata": {},
   "outputs": [],
   "source": [
    "#Question 3"
   ]
  },
  {
   "cell_type": "code",
   "execution_count": 65,
   "id": "dcaa525a-34cc-4ad6-a01d-465c4ba916c1",
   "metadata": {},
   "outputs": [
    {
     "name": "stdin",
     "output_type": "stream",
     "text": [
      "write a number  8\n"
     ]
    }
   ],
   "source": [
    "a=int(input(\"write a number \"))"
   ]
  },
  {
   "cell_type": "code",
   "execution_count": 72,
   "id": "c4224850-6a42-4b2a-9ab8-9fd648d4a868",
   "metadata": {},
   "outputs": [
    {
     "name": "stdout",
     "output_type": "stream",
     "text": [
      "a est impair\n"
     ]
    }
   ],
   "source": [
    "if a //2 ==0 :\n",
    "    print(\"a est pair\")\n",
    "else :\n",
    "    print(\"a est impair\")"
   ]
  },
  {
   "cell_type": "code",
   "execution_count": 73,
   "id": "46e92d92-a2a0-4f87-b6f5-3a0aedba2e05",
   "metadata": {},
   "outputs": [],
   "source": [
    "#Question 4 "
   ]
  },
  {
   "cell_type": "code",
   "execution_count": 124,
   "id": "f3bfc529-b819-41fd-bd88-cfa7139918f0",
   "metadata": {},
   "outputs": [
    {
     "name": "stdout",
     "output_type": "stream",
     "text": [
      "[2002, 2009, 2016, 2023, 2037, 2044, 2051, 2058, 2072, 2079, 2086, 2093, 2107, 2114, 2121, 2128, 2142, 2149, 2156, 2163, 2177, 2184, 2191, 2198, 2212, 2219, 2226, 2233, 2247, 2254, 2261, 2268, 2282, 2289, 2296, 2303, 2317, 2324, 2331, 2338, 2352, 2359, 2366, 2373, 2387, 2394, 2401, 2408, 2422, 2429, 2436, 2443, 2457, 2464, 2471, 2478, 2492, 2499, 2506, 2513, 2527, 2534, 2541, 2548, 2562, 2569, 2576, 2583, 2597, 2604, 2611, 2618, 2632, 2639, 2646, 2653, 2667, 2674, 2681, 2688, 2702, 2709, 2716, 2723, 2737, 2744, 2751, 2758, 2772, 2779, 2786, 2793, 2807, 2814, 2821, 2828, 2842, 2849, 2856, 2863, 2877, 2884, 2891, 2898, 2912, 2919, 2926, 2933, 2947, 2954, 2961, 2968, 2982, 2989, 2996, 3003, 3017, 3024, 3031, 3038, 3052, 3059, 3066, 3073, 3087, 3094, 3101, 3108, 3122, 3129, 3136, 3143, 3157, 3164, 3171, 3178, 3192, 3199]\n"
     ]
    }
   ],
   "source": [
    "liste=[]\n",
    "for i in range (2000, 3201):\n",
    "    if (i%7 ==0) and (i%5 !=0) :\n",
    "        liste.append(i)\n",
    "print (liste)\n"
   ]
  },
  {
   "cell_type": "code",
   "execution_count": 125,
   "id": "c32ec2fb-7268-411a-a225-dbf05f733e38",
   "metadata": {},
   "outputs": [],
   "source": [
    "#Question 5"
   ]
  },
  {
   "cell_type": "code",
   "execution_count": 126,
   "id": "2562546e-e74a-488d-b9fb-e99129996e9c",
   "metadata": {},
   "outputs": [
    {
     "name": "stdin",
     "output_type": "stream",
     "text": [
      " 8\n"
     ]
    }
   ],
   "source": [
    "x=int(input())"
   ]
  },
  {
   "cell_type": "code",
   "execution_count": 150,
   "id": "d7cd33b1-81ce-4781-8e3e-0cba970786a5",
   "metadata": {},
   "outputs": [
    {
     "name": "stdout",
     "output_type": "stream",
     "text": [
      "40320\n"
     ]
    }
   ],
   "source": [
    "x=i=8\n",
    "fac=1\n",
    "while i>=1:\n",
    "    fac=fac*x\n",
    "    x=x-1\n",
    "    i=i-1\n",
    "print(fac)"
   ]
  },
  {
   "cell_type": "code",
   "execution_count": null,
   "id": "ec353198-518b-4d77-b6d4-11a99dfec9ec",
   "metadata": {},
   "outputs": [],
   "source": []
  },
  {
   "cell_type": "code",
   "execution_count": null,
   "id": "2b602c88-3ed0-4274-9cf4-a976dd47503e",
   "metadata": {},
   "outputs": [],
   "source": []
  }
 ],
 "metadata": {
  "kernelspec": {
   "display_name": "Python 3 (ipykernel)",
   "language": "python",
   "name": "python3"
  },
  "language_info": {
   "codemirror_mode": {
    "name": "ipython",
    "version": 3
   },
   "file_extension": ".py",
   "mimetype": "text/x-python",
   "name": "python",
   "nbconvert_exporter": "python",
   "pygments_lexer": "ipython3",
   "version": "3.9.7"
  }
 },
 "nbformat": 4,
 "nbformat_minor": 5
}
